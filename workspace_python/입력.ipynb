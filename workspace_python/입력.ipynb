{
 "cells": [
  {
   "cell_type": "code",
   "execution_count": 4,
   "metadata": {},
   "outputs": [
    {
     "name": "stdout",
     "output_type": "stream",
     "text": [
      "입력받은 수는 120입니다.\n"
     ]
    }
   ],
   "source": [
    "# 키보드로 입력받기\n",
    "# input() 함수 사용으로 키보드로 값을 입력받을 수 있다.\n",
    "# input() 함수를 사용하여 키보드로 입력받은 값을 문자열로 인식\n",
    "# 문자열 -> 정수 : int()\n",
    "num = input('숫자를 입력하세요 : ')\n",
    "print(f'입력받은 수는 {num}입니다.')"
   ]
  },
  {
   "cell_type": "code",
   "execution_count": 11,
   "metadata": {},
   "outputs": [
    {
     "name": "stdout",
     "output_type": "stream",
     "text": [
      "110\n"
     ]
    }
   ],
   "source": [
    "# 문자열을 정수로 변환\n",
    "result = int ('10')\n",
    "result2 = int ('100')\n",
    "print(result+result2)\n"
   ]
  },
  {
   "cell_type": "code",
   "execution_count": 12,
   "metadata": {},
   "outputs": [
    {
     "name": "stdout",
     "output_type": "stream",
     "text": [
      "입력받은 두 정수의 합은 30입니다\n"
     ]
    }
   ],
   "source": [
    "# 두 정수를 입력받아 두 정수의 합을 출력\n",
    "num1 = int(input('첫번째 수 : '))\n",
    "num2 = int(input('두번째 수 : '))\n",
    "print(f'입력받은 두 정수의 합은 {num1+num2}입니다')"
   ]
  },
  {
   "cell_type": "code",
   "execution_count": 13,
   "metadata": {},
   "outputs": [
    {
     "name": "stdout",
     "output_type": "stream",
     "text": [
      "입력받은 학생은 이름 : 20 국어 : 10 영어 : 40 수학 : 40 총점 : 90 평균 : 30.0\n"
     ]
    }
   ],
   "source": [
    "# 키보드로 학생의 이름, 나이, 국어점수, 영어점수, 수학점수를 입력받아\n",
    "# 입력받은 학생의 이름, 나이, 국어점수, 영어점수, 수학점수 및 총점과 평균을 출력\n",
    "stuName = input('학생 이름 : ')\n",
    "korScore = int(input('국어점수 : '))\n",
    "engScore = int(input('영어점수 : '))\n",
    "mathScore = int(input('수학점수 : '))\n",
    "print(f'입력받은 학생은 이름 : {stuName} 국어 : {korScore} 영어 : {engScore} 수학 : {mathScore} 총점 : { mathScore+engScore+korScore} 평균 : {(mathScore+engScore+korScore)/3}입니다')\n"
   ]
  },
  {
   "cell_type": "code",
   "execution_count": null,
   "metadata": {},
   "outputs": [],
   "source": []
  },
  {
   "cell_type": "code",
   "execution_count": null,
   "metadata": {},
   "outputs": [],
   "source": []
  }
 ],
 "metadata": {
  "kernelspec": {
   "display_name": "Python 3",
   "language": "python",
   "name": "python3"
  },
  "language_info": {
   "codemirror_mode": {
    "name": "ipython",
    "version": 3
   },
   "file_extension": ".py",
   "mimetype": "text/x-python",
   "name": "python",
   "nbconvert_exporter": "python",
   "pygments_lexer": "ipython3",
   "version": "3.12.5"
  }
 },
 "nbformat": 4,
 "nbformat_minor": 2
}
