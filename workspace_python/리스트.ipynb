{
 "cells": [
  {
   "cell_type": "code",
   "execution_count": 13,
   "metadata": {},
   "outputs": [
    {
     "name": "stdout",
     "output_type": "stream",
     "text": [
      "1\n"
     ]
    }
   ],
   "source": [
    "# 리스트 변수 만들 때 변수명 절대 list 사용 X\n",
    "# 리스트 생성\n",
    "list1 = []\n",
    "list2 = [1,2,3,'python']\n",
    "list3 = [1,2,[3,4,5],[6,7]]\n",
    "\n",
    "# 리스트의 요소에 접근 방법\n",
    "print(list3[0])"
   ]
  },
  {
   "cell_type": "code",
   "execution_count": 12,
   "metadata": {},
   "outputs": [
    {
     "name": "stdout",
     "output_type": "stream",
     "text": [
      "5\n",
      "5\n"
     ]
    }
   ],
   "source": [
    "list3 = [1,2,[3,4,5],[6,7]]\n",
    "\n",
    "# 위의 리스트에서 5만 출력\n",
    "print(list3[2][2])"
   ]
  },
  {
   "cell_type": "code",
   "execution_count": 45,
   "metadata": {},
   "outputs": [
    {
     "name": "stdout",
     "output_type": "stream",
     "text": [
      "[1, 2, '홍길동', [1, 2, 3]]\n"
     ]
    }
   ],
   "source": [
    "# 리스트에 데이터 추가\n",
    "\n",
    "# 빈 리스트를 생성\n",
    "list1 = []\n",
    "\n",
    "# 데이터 추가 \n",
    "# append list에 마지막에 데이터 추가\n",
    "list1.append(1)\n",
    "list1.append(2)\n",
    "list1.append('홍길동')\n",
    "list1.append([1,2,3])\n",
    "\n",
    "# 데이터 출력\n",
    "print(list1)"
   ]
  },
  {
   "cell_type": "code",
   "execution_count": 38,
   "metadata": {},
   "outputs": [
    {
     "name": "stdout",
     "output_type": "stream",
     "text": [
      "[1, 5, 3, 2, '홍길동', [1, 2, 3]]\n"
     ]
    }
   ],
   "source": [
    "# 데이터 추가 두번째\n",
    "# insert(추가할 위치, 추가할 데이터)\n",
    "list1.insert(1, 5)\n",
    "print(list1)"
   ]
  },
  {
   "cell_type": "code",
   "execution_count": 46,
   "metadata": {},
   "outputs": [
    {
     "name": "stdout",
     "output_type": "stream",
     "text": [
      "삭제전데이터\n",
      "[1, 2, '홍길동', [1, 2, 3]]\n",
      "삭제후\n",
      "[1, '홍길동', [1, 2, 3]]\n"
     ]
    }
   ],
   "source": [
    "# 리스트 데이터 삭제 1.\n",
    "print('삭제전데이터')\n",
    "print(list1)\n",
    "\n",
    "list1.remove(2)\n",
    "print('삭제후')\n",
    "print(list1)\n"
   ]
  },
  {
   "cell_type": "code",
   "execution_count": 50,
   "metadata": {},
   "outputs": [
    {
     "name": "stdout",
     "output_type": "stream",
     "text": [
      "[1, 2, [1, 2, 3]]\n"
     ]
    }
   ],
   "source": [
    "# 리스트 삭제 2. (추천!!!)\n",
    "list4 = [1,2,'python',[1,2,3]]\n",
    "\n",
    "del list4[2]\n",
    "\n",
    "print(list4)"
   ]
  },
  {
   "cell_type": "code",
   "execution_count": null,
   "metadata": {},
   "outputs": [],
   "source": [
    "# 삭제 시 주의\n",
    "# 아래 코드는 list4라는 리스트 자체를 삭제\n",
    "del list4"
   ]
  },
  {
   "cell_type": "code",
   "execution_count": 53,
   "metadata": {},
   "outputs": [],
   "source": [
    "stunum = 10\n",
    "del stunum"
   ]
  },
  {
   "cell_type": "code",
   "execution_count": 54,
   "metadata": {},
   "outputs": [
    {
     "name": "stdout",
     "output_type": "stream",
     "text": [
      "[1, 5, 3]\n"
     ]
    }
   ],
   "source": [
    "# 리스트 데이터 수정\n",
    "list5 = [1,2,3]\n",
    "list5[1] = 5\n",
    "print(list5)"
   ]
  },
  {
   "cell_type": "code",
   "execution_count": 56,
   "metadata": {},
   "outputs": [
    {
     "name": "stdout",
     "output_type": "stream",
     "text": [
      "[1, 2, 3, 4, 5]\n",
      "[1, 2, 3, 1, 2, 3]\n"
     ]
    }
   ],
   "source": [
    "# 리스트 합치기\n",
    "list6 = [1,2,3] + [4,5]\n",
    "print(list6)\n",
    "\n",
    "list7 = [1,2,3] * 2\n",
    "print(list7)"
   ]
  },
  {
   "cell_type": "code",
   "execution_count": 60,
   "metadata": {},
   "outputs": [
    {
     "name": "stdout",
     "output_type": "stream",
     "text": [
      "[2, 3, 4]\n",
      "[2, 3, 4, 5]\n",
      "[1, 2, 3]\n",
      "[1, 2, 3, 4, 5]\n"
     ]
    }
   ],
   "source": [
    "# 리스트의 슬라이싱 : 리스트 데이터의 일부 추출\n",
    "list1 = [1,2,3,4,5]\n",
    "print(list1[1:4])\n",
    "print(list1[1:])\n",
    "print(list1[:3])\n",
    "print(list1[:])"
   ]
  },
  {
   "cell_type": "code",
   "execution_count": 67,
   "metadata": {},
   "outputs": [
    {
     "name": "stdout",
     "output_type": "stream",
     "text": [
      "[1, 5]\n"
     ]
    }
   ],
   "source": [
    "# 슬라이싱을 이용한 데이터 삭제\n",
    "list1 = [1,2,3,4,5]\n",
    "del list1[1:4]\n",
    "print(list1)"
   ]
  },
  {
   "cell_type": "code",
   "execution_count": 73,
   "metadata": {},
   "outputs": [
    {
     "name": "stdout",
     "output_type": "stream",
     "text": [
      "[1, 10, 3, 4, 5, 5, 5, 5, 577, 5]\n"
     ]
    }
   ],
   "source": [
    "# 슬라이싱을 이용한 데이터 수정\n",
    "list1 = [1,2,3,4,5]\n",
    "list1[1] = 10\n",
    "list1[2:4] = [3,4,5,5,5,5,577]\n",
    "print(list1)"
   ]
  },
  {
   "cell_type": "code",
   "execution_count": 76,
   "metadata": {},
   "outputs": [
    {
     "name": "stdout",
     "output_type": "stream",
     "text": [
      "5\n",
      "[2, 3, 4]\n"
     ]
    }
   ],
   "source": [
    "# 리스트의 마지막 데이터를 알고 싶을 때 [-1] 사용\n",
    "list1 = [1,2,3,4,5]\n",
    "print(list1[-1])\n",
    "print(list1[1:-1])"
   ]
  },
  {
   "cell_type": "markdown",
   "metadata": {},
   "source": [
    " <!-- 1번 문제 -->\n",
    "list1 = []\n",
    "for i in range(3) :\n",
    "  num = int(input(f'{i + 1} 번째 정수 입력 : '))\n",
    "  list1.append(num)\n",
    "\n",
    "answer = max(list1) - min(list1)\n",
    "print(answer)"
   ]
  },
  {
   "cell_type": "code",
   "execution_count": 81,
   "metadata": {},
   "outputs": [
    {
     "name": "stdout",
     "output_type": "stream",
     "text": [
      "8\n"
     ]
    }
   ],
   "source": [
    "#1. 키보드로 세 수를 입력받고, 입력받은 세수를 리스트에 저장하시오. 그 후 리스트에 저장된 수 중에 가장 큰수와 가장 작은수의 차를 출력하시오\n",
    "num1 = int(input('첫번째 수 : '))\n",
    "num2 = int(input('두번째 수 : '))\n",
    "num3 = int(input('세번째 수 : '))\n",
    "list1 = [num1, num2, num3]\n",
    "maxnum = max(list1)\n",
    "minnum = min(list1)\n",
    "print(maxnum-minnum)\n"
   ]
  },
  {
   "cell_type": "code",
   "execution_count": null,
   "metadata": {},
   "outputs": [],
   "source": [
    "#2. 매개변수로 두 개의 리스트를 받아, 두 개의 리스트에 저장된 모든 데이터의 합을 리턴하는 함수를 작성하시오"
   ]
  },
  {
   "cell_type": "code",
   "execution_count": 84,
   "metadata": {},
   "outputs": [
    {
     "ename": "IndentationError",
     "evalue": "expected an indented block after 'if' statement on line 6 (3158124409.py, line 8)",
     "output_type": "error",
     "traceback": [
      "\u001b[1;36m  Cell \u001b[1;32mIn[84], line 8\u001b[1;36m\u001b[0m\n\u001b[1;33m    cnt = cnt + 1\u001b[0m\n\u001b[1;37m    ^\u001b[0m\n\u001b[1;31mIndentationError\u001b[0m\u001b[1;31m:\u001b[0m expected an indented block after 'if' statement on line 6\n"
     ]
    }
   ],
   "source": [
    "#3. 아래에 제시된 데이터 에서 3의 갯수를 출력하세요\n",
    "data = [1, 2, 3, [1, 5], [2, 3, 4], 3, [8, 5, 3]]\n",
    "\n",
    "cnt = 0\n",
    "for i in data :\n",
    "  if 3 in data :\n",
    "    cnt = cnt + 1\n",
    "  \n",
    "print(cnt)"
   ]
  },
  {
   "cell_type": "code",
   "execution_count": 87,
   "metadata": {},
   "outputs": [
    {
     "name": "stdout",
     "output_type": "stream",
     "text": [
      "p\n",
      "yth\n"
     ]
    }
   ],
   "source": [
    "# 문자열도 리스트다!\n",
    "name = 'python'\n",
    "print(name[0])\n",
    "print(name[1:4])"
   ]
  },
  {
   "cell_type": "code",
   "execution_count": 91,
   "metadata": {},
   "outputs": [
    {
     "name": "stdout",
     "output_type": "stream",
     "text": [
      "4\n"
     ]
    }
   ],
   "source": [
    "# 아래 리스트\n",
    "strList = ['father', 'mother', 'brother']\n",
    "\n",
    "cnt = 0\n",
    "\n",
    "for word in strList : \n",
    "  for alphabet in word :\n",
    "    if alphabet == 'r' :\n",
    "      cnt = cnt + 1\n",
    "      \n",
    "print(cnt)"
   ]
  },
  {
   "cell_type": "code",
   "execution_count": 1,
   "metadata": {},
   "outputs": [
    {
     "name": "stdout",
     "output_type": "stream",
     "text": [
      "딕셔너리 값들 중 최대값은: 25\n"
     ]
    }
   ],
   "source": [
    "my_dict = {\n",
    "    'a': 10,\n",
    "    'b': 25,\n",
    "    'c': 7,\n",
    "    'd': 18\n",
    "}\n",
    "\n",
    "# 딕셔너리의 값들 중에서 최대값 찾기\n",
    "max_value = max(my_dict.values())\n",
    "max_name = \n",
    "\n",
    "print(\"딕셔너리 값들 중 최대값은:\", max_value)"
   ]
  }
 ],
 "metadata": {
  "kernelspec": {
   "display_name": "Python 3",
   "language": "python",
   "name": "python3"
  },
  "language_info": {
   "codemirror_mode": {
    "name": "ipython",
    "version": 3
   },
   "file_extension": ".py",
   "mimetype": "text/x-python",
   "name": "python",
   "nbconvert_exporter": "python",
   "pygments_lexer": "ipython3",
   "version": "3.12.5"
  }
 },
 "nbformat": 4,
 "nbformat_minor": 2
}
