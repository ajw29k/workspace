{
 "cells": [
  {
   "cell_type": "code",
   "execution_count": null,
   "metadata": {},
   "outputs": [],
   "source": [
    "#1. 키보드로 세 수를 입력받고, 입력받은 세수를 리스트에 저장하시오. 그 후 리스트에 저장된 수 중에 가장 큰수와 가장 작은수의 차를 출력하시오"
   ]
  }
 ],
 "metadata": {
  "language_info": {
   "name": "python"
  }
 },
 "nbformat": 4,
 "nbformat_minor": 2
}
